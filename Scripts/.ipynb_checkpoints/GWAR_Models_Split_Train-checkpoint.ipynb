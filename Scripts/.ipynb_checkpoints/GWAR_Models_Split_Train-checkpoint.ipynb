{
 "cells": [
  {
   "cell_type": "code",
   "execution_count": 8,
   "id": "726e44f5",
   "metadata": {},
   "outputs": [],
   "source": [
    "import pandas as pd\n",
    "from sklearn.model_selection import train_test_split\n",
    "from sklearn.tree import DecisionTreeClassifier\n",
    "from sklearn.ensemble import RandomForestClassifier\n",
    "from sklearn.preprocessing import MinMaxScaler\n",
    "from sklearn.metrics import accuracy_score, f1_score, confusion_matrix, classification_report\n",
    "import numpy as np\n",
    "from tensorflow.keras.models import Sequential\n",
    "from tensorflow.keras.layers import Dense, LSTM"
   ]
  },
  {
   "cell_type": "code",
   "execution_count": 6,
   "id": "0fc77473",
   "metadata": {},
   "outputs": [
    {
     "name": "stdout",
     "output_type": "stream",
     "text": [
      "Train set shape: (985035, 18)\n",
      "Validation set shape: (109449, 18)\n",
      "Test set shape: (121610, 18)\n"
     ]
    }
   ],
   "source": [
    "# Load the data into a pandas dataframe\n",
    "df = pd.read_csv('C:/Users/Checkout/Documents/Courses/GWAR/Datasets/CNDS.csv')\n",
    "\n",
    "# Select the columns you want to keep for training\n",
    "train_cols = ['LAT', 'LON', 'T2M', 'T2MDEW', 'TS', 'T2M_RANGE', 'T2M_MAX', 'T2M_MIN', 'QV2M', 'RH2M', 'PS', 'WS10M', 'WS10M_MAX', 'WS10M_MIN', 'WS10M_RANGE', 'WD10M', 'ndvi_value', 'D0-D4']\n",
    "\n",
    "# Drop the columns you don't need\n",
    "df = df[train_cols]\n",
    "\n",
    "# Split the data into train, validation, and test sets\n",
    "train_data, test_data = train_test_split(df, test_size=0.1, random_state=42)\n",
    "train_data, val_data = train_test_split(train_data, test_size=0.1, random_state=42)\n",
    "print(f\"Train set shape: {train_data.shape}\")\n",
    "print(f\"Validation set shape: {val_data.shape}\")\n",
    "print(f\"Test set shape: {test_data.shape}\")"
   ]
  },
  {
   "cell_type": "code",
   "execution_count": null,
   "id": "958a6efb",
   "metadata": {},
   "outputs": [
    {
     "name": "stdout",
     "output_type": "stream",
     "text": [
      "Decision Tree Accuracy: -25.98505111040026\n"
     ]
    }
   ],
   "source": [
    "\n",
    "# Define the training, validation and test data\n",
    "train_X, train_y = train_data.iloc[:, :-1], train_data.iloc[:, -1]\n",
    "val_X, val_y = val_data.iloc[:, :-1], val_data.iloc[:, -1]\n",
    "test_X, test_y = test_data.iloc[:, :-1], test_data.iloc[:, -1]\n",
    "\n",
    "# Scale the data\n",
    "scaler = MinMaxScaler()\n",
    "train_X = scaler.fit_transform(train_X)\n",
    "val_X = scaler.transform(val_X)\n",
    "test_X = scaler.transform(test_X)\n",
    "\n",
    "# Decision Tree Regressor\n",
    "dt = DecisionTreeClassifier(random_state=0)\n",
    "dt.fit(train_X, train_y)\n",
    "dt_pred = dt.predict(test_X)\n",
    "print(\"Decision Tree Accuracy:\", dt.score(test_X, test_y)*100)\n",
    "# print(\"Decision Tree F1 Score:\", f1_score(test_y, dt_pred, average='weighted'))\n",
    "# print(\"Decision Tree Confusion Matrix:\")\n",
    "# print(confusion_matrix(test_y, dt_pred))\n",
    "# print(classification_report(test_y, dt_pred))\n",
    "\n",
    "# Random Forest Regressor\n",
    "rf = RandomForestRegressor(n_estimators=100, random_state=0)\n",
    "rf.fit(train_X, train_y)\n",
    "rf_pred = rf.predict(test_X)\n",
    "print(\"Random Forest Accuracy:\", rf.score(test_X, test_y)*100)\n",
    "# print(\"Random Forest F1 Score:\", f1_score(test_y, rf_pred, average='weighted'))\n",
    "# print(\"Random Forest Confusion Matrix:\")\n",
    "# print(confusion_matrix(test_y, rf_pred))\n",
    "# print(classification_report(test_y, rf_pred))\n",
    "\n",
    "# LSTM\n",
    "lstm_train_X = np.reshape(train_X, (train_X.shape[0], 1, train_X.shape[1]))\n",
    "lstm_val_X = np.reshape(val_X, (val_X.shape[0], 1, val_X.shape[1]))\n",
    "lstm_test_X = np.reshape(test_X, (test_X.shape[0], 1, test_X.shape[1]))\n",
    "\n",
    "lstm_model = Sequential()\n",
    "lstm_model.add(LSTM(100, input_shape=(lstm_train_X.shape[1], lstm_train_X.shape[2])))\n",
    "lstm_model.add(Dense(1))\n",
    "lstm_model.compile(loss='mse', optimizer='adam')\n",
    "\n",
    "lstm_model.fit(lstm_train_X, train_y, epochs=100, batch_size=32, validation_data=(lstm_val_X, val_y), verbose=2, shuffle=False)\n",
    "lstm_pred = lstm_model.predict(lstm_test_X)\n",
    "lstm_pred = scaler.inverse_transform(lstm_pred)\n",
    "print(\"LSTM Accuracy:\", accuracy_score(test_y, lstm_pred)*100)\n",
    "# print(\"LSTM F1 Score:\", f1_score(test_y, lstm_pred, average='weighted'))\n",
    "# print(\"LSTM Confusion Matrix:\")\n",
    "# print(confusion_matrix(test_y, lstm_pred))\n",
    "# print(classification_report(test_y, lstm_pred))\n",
    "\n",
    "# ANN\n",
    "ann_model = Sequential()\n",
    "ann_model.add(Dense(100, input_dim=train_X.shape[1], activation='relu'))\n",
    "ann_model.add(Dense(50, activation='relu'))\n",
    "ann_model.add(Dense(1))\n",
    "ann_model.compile(loss='mse', optimizer='adam')\n",
    "\n",
    "ann_model.fit(train_X, train_y, epochs=100, batch_size=32, validation_data=(val_X, val_y), verbose=2, shuffle=False)\n",
    "ann_pred = ann_model.predict(test_X)\n",
    "print(\"ANN Accuracy:\", accuracy_score(test_y, ann_pred)*100)\n",
    "# print(\"ANN F1 Score:\", f1_score(test_y, ann_pred, average='weighted'))\n",
    "# print(\"ANN Confusion Matrix:\")\n",
    "# print(confusion_matrix(test_y, ann_pred))\n",
    "# print(classification_report(test_y, ann_pred))\n"
   ]
  },
  {
   "cell_type": "code",
   "execution_count": 5,
   "id": "5b4eb9d0",
   "metadata": {},
   "outputs": [
    {
     "data": {
      "text/plain": [
       "LAT                 0\n",
       "LON                 0\n",
       "T2M                 0\n",
       "T2MDEW              0\n",
       "TS                  0\n",
       "T2M_RANGE           0\n",
       "T2M_MAX             0\n",
       "T2M_MIN             0\n",
       "QV2M                0\n",
       "RH2M                0\n",
       "PS                  0\n",
       "WS10M               0\n",
       "WS10M_MAX           0\n",
       "WS10M_MIN           0\n",
       "WS10M_RANGE         0\n",
       "WD10M               0\n",
       "ndvi_value          0\n",
       "SPEI           313058\n",
       "D0-D4               0\n",
       "dtype: int64"
      ]
     },
     "execution_count": 5,
     "metadata": {},
     "output_type": "execute_result"
    }
   ],
   "source": [
    "df.isnull().sum()"
   ]
  },
  {
   "cell_type": "code",
   "execution_count": null,
   "id": "3b828349",
   "metadata": {},
   "outputs": [],
   "source": [
    "train_X, train_y = train_data.iloc[:, :-1], train_data.iloc[:, -1]\n",
    "val_X, val_y = val_data.iloc[:, :-1], val_data.iloc[:, -1]\n",
    "test_X, test_y = test_data.iloc[:, :-1], test_data.iloc[:, -1]\n",
    "\n",
    "# Scale the data\n",
    "scaler = MinMaxScaler()\n",
    "train_X = scaler.fit_transform(train_X)\n",
    "val_X = scaler.transform(val_X)\n",
    "test_X = scaler.transform(test_X)\n",
    "\n",
    "# Decision Tree Classifier\n",
    "dt = DecisionTreeClassifier(random_state=0)\n",
    "dt.fit(train_X, train_y)\n",
    "dt_pred = dt.predict(test_X)\n",
    "print(\"Decision Tree Accuracy:\", accuracy_score(test_y, dt_pred)*100)\n",
    "print(\"Decision Tree F1 Score:\", f1_score(test_y, dt_pred, average='weighted'))\n",
    "print(\"Decision Tree Confusion Matrix:\")\n",
    "print(confusion_matrix(test_y, dt_pred))\n",
    "print(classification_report(test_y, dt_pred))\n",
    "\n",
    "# Random Forest Classifier\n",
    "rf = RandomForestClassifier(n_estimators=100, random_state=0)\n",
    "rf.fit(train_X, train_y)\n",
    "rf_pred = rf.predict(test_X)\n",
    "print(\"Random Forest Accuracy:\", accuracy_score(test_y, rf_pred)*100)\n",
    "print(\"Random Forest F1 Score:\", f1_score(test_y, rf_pred, average='weighted'))\n",
    "print(\"Random Forest Confusion Matrix:\")\n",
    "print(confusion_matrix(test_y, rf_pred))\n",
    "print(classification_report(test_y, rf_pred))\n",
    "\n",
    "# LSTM\n",
    "lstm_train_X = np.reshape(train_X, (train_X.shape[0], 1, train_X.shape[1]))\n",
    "lstm_val_X = np.reshape(val_X, (val_X.shape[0], 1, val_X.shape[1]))\n",
    "lstm_test_X = np.reshape(test_X, (test_X.shape[0], 1, test_X.shape[1]))\n",
    "\n",
    "lstm_model = Sequential()\n",
    "lstm_model.add(LSTM(100, input_shape=(lstm_train_X.shape[1], lstm_train_X.shape[2])))\n",
    "lstm_model.add(Dense(1))\n",
    "lstm_model.compile(loss='mse', optimizer='adam')\n",
    "\n",
    "lstm_model.fit(lstm_train_X, train_y, epochs=100, batch_size=32, validation_data=(lstm_val_X, val_y), verbose=2, shuffle=False)\n",
    "lstm_pred = lstm_model.predict(lstm_test_X)\n",
    "lstm_pred = np.round(lstm_pred).astype(int)\n",
    "print(\"LSTM Accuracy:\", accuracy_score(test_y, lstm_pred)*100)\n",
    "print(\"LSTM F1 Score:\", f1_score(test_y, lstm_pred, average='weighted'))\n",
    "print(\"LSTM Confusion Matrix:\")\n",
    "print(confusion_matrix(test_y, lstm_pred))\n",
    "print(classification_report(test_y, lstm_pred))\n",
    "\n",
    "# ANN\n",
    "ann_model = Sequential()\n",
    "ann_model.add(Dense(100, input_dim=train_X.shape[1], activation='relu'))\n",
    "ann_model.add(Dense(50, activation='relu'))\n",
    "ann_model.add(Dense(1))\n",
    "ann_model.compile(loss='mse', optimizer='adam')\n",
    "\n",
    "ann_model.fit(train_X, train_y, epochs=100, batch_size=32, validation_data=(val_X, val_y), verbose=2, shuffle=False)\n",
    "ann_pred = ann_model.predict(test_X)\n",
    "ann_pred = np.round(ann_pred\n"
   ]
  }
 ],
 "metadata": {
  "kernelspec": {
   "display_name": "Python 3 (ipykernel)",
   "language": "python",
   "name": "python3"
  },
  "language_info": {
   "codemirror_mode": {
    "name": "ipython",
    "version": 3
   },
   "file_extension": ".py",
   "mimetype": "text/x-python",
   "name": "python",
   "nbconvert_exporter": "python",
   "pygments_lexer": "ipython3",
   "version": "3.9.13"
  }
 },
 "nbformat": 4,
 "nbformat_minor": 5
}
